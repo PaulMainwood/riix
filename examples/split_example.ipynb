{
 "cells": [
  {
   "cell_type": "code",
   "execution_count": 1,
   "metadata": {},
   "outputs": [],
   "source": [
    "from riix.models.elo import Elo\n",
    "from riix.utils import MatchupDataset, generate_matchup_data, split_matchup_dataset\n",
    "from riix.metrics import binary_metrics_suite"
   ]
  },
  {
   "cell_type": "code",
   "execution_count": 2,
   "metadata": {},
   "outputs": [
    {
     "name": "stdout",
     "output_type": "stream",
     "text": [
      "loaded dataset with:\n",
      "10000 matchups\n",
      "100 unique competitors\n",
      "10 rating periods of length 1D\n",
      "(2000, 2)\n",
      "len(train_dataset)=8000, len(train_dataset)=8000\n"
     ]
    }
   ],
   "source": [
    "df = generate_matchup_data(\n",
    "    num_matchups=10000,\n",
    "    num_competitors=100,\n",
    "    strength_var=1.0,\n",
    "    strength_noise_var=0.1,\n",
    "    theta=2.18,\n",
    "    seed=0\n",
    ")\n",
    "dataset = MatchupDataset(\n",
    "    df,\n",
    "    competitor_cols=['competitor_1', 'competitor_2'],\n",
    "    outcome_col='outcome',\n",
    "    datetime_col='date',\n",
    "    rating_period='1D',\n",
    ")\n",
    "train_dataset, test_dataset = split_matchup_dataset(dataset, test_fraction=0.2)\n",
    "print(f'{len(train_dataset)=}, {len(test_dataset)=}')"
   ]
  },
  {
   "cell_type": "code",
   "execution_count": 3,
   "metadata": {},
   "outputs": [],
   "source": [
    "model = Elo(num_competitors=dataset.num_competitors)\n",
    "probs = model.fit_dataset(dataset, return_pre_match_probs=True)\n",
    "metrics = binary_metrics_suite(probs=probs, outcomes=dataset.outcomes)\n"
   ]
  },
  {
   "cell_type": "code",
   "execution_count": 4,
   "metadata": {},
   "outputs": [
    {
     "data": {
      "text/plain": [
       "{'accuracy': 0.7345,\n",
       " 'log_loss': 0.5780088473558098,\n",
       " 'brier_score': 0.19573451315967008}"
      ]
     },
     "execution_count": 4,
     "metadata": {},
     "output_type": "execute_result"
    }
   ],
   "source": [
    "metrics"
   ]
  },
  {
   "cell_type": "code",
   "execution_count": 5,
   "metadata": {},
   "outputs": [
    {
     "name": "stdout",
     "output_type": "stream",
     "text": [
      "competitor   \trating\n",
      "competitor_31\t1686.920129\n",
      "competitor_45\t1680.669196\n",
      "competitor_13\t1671.284619\n",
      "competitor_52\t1667.222705\n",
      "competitor_96\t1664.490425\n"
     ]
    }
   ],
   "source": [
    "model.print_top_k(k=5, competitor_names=dataset.competitors)"
   ]
  },
  {
   "cell_type": "code",
   "execution_count": null,
   "metadata": {},
   "outputs": [],
   "source": []
  }
 ],
 "metadata": {
  "kernelspec": {
   "display_name": "riix",
   "language": "python",
   "name": "python3"
  },
  "language_info": {
   "codemirror_mode": {
    "name": "ipython",
    "version": 3
   },
   "file_extension": ".py",
   "mimetype": "text/x-python",
   "name": "python",
   "nbconvert_exporter": "python",
   "pygments_lexer": "ipython3",
   "version": "3.11.5"
  }
 },
 "nbformat": 4,
 "nbformat_minor": 2
}
