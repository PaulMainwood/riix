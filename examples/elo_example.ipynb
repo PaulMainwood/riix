{
 "cells": [
  {
   "cell_type": "code",
   "execution_count": 1,
   "metadata": {},
   "outputs": [],
   "source": [
    "from riix.models.elo import Elo\n",
    "from riix.utils import MatchupDataset, generate_matchup_data\n",
    "from riix.metrics import binary_metrics_suite"
   ]
  },
  {
   "cell_type": "code",
   "execution_count": 2,
   "metadata": {},
   "outputs": [
    {
     "name": "stdout",
     "output_type": "stream",
     "text": [
      "loaded dataset with:\n",
      "1000 matchups\n",
      "100 unique competitors\n",
      "10 rating periods of length 1D\n"
     ]
    }
   ],
   "source": [
    "df = generate_matchup_data() # replace with your pandas dataframe\n",
    "dataset = MatchupDataset(\n",
    "    df,\n",
    "    competitor_cols=['competitor_1', 'competitor_2'],\n",
    "    outcome_col='outcome',\n",
    "    datetime_col='date',\n",
    "    rating_period='1D',\n",
    ")"
   ]
  },
  {
   "cell_type": "code",
   "execution_count": 3,
   "metadata": {},
   "outputs": [],
   "source": [
    "model = Elo(num_competitors=dataset.num_competitors)\n",
    "probs = model.rate_dataset(dataset)\n",
    "metrics = binary_metrics_suite(probs=probs, outcomes=dataset.outcomes)\n"
   ]
  },
  {
   "cell_type": "code",
   "execution_count": 4,
   "metadata": {},
   "outputs": [
    {
     "data": {
      "text/plain": [
       "{'accuracy': 0.7345,\n",
       " 'log_loss': 0.5780088473558098,\n",
       " 'brier_score': 0.19573451315967008}"
      ]
     },
     "execution_count": 4,
     "metadata": {},
     "output_type": "execute_result"
    }
   ],
   "source": [
    "metrics"
   ]
  },
  {
   "cell_type": "code",
   "execution_count": 5,
   "metadata": {},
   "outputs": [
    {
     "name": "stdout",
     "output_type": "stream",
     "text": [
      "competitor   \trating\n",
      "competitor_31\t1686.920129\n",
      "competitor_45\t1680.669196\n",
      "competitor_13\t1671.284619\n",
      "competitor_52\t1667.222705\n",
      "competitor_96\t1664.490425\n"
     ]
    }
   ],
   "source": [
    "model.print_top_k(k=5, competitor_names=dataset.competitors)"
   ]
  },
  {
   "cell_type": "code",
   "execution_count": null,
   "metadata": {},
   "outputs": [],
   "source": []
  }
 ],
 "metadata": {
  "kernelspec": {
   "display_name": "riix",
   "language": "python",
   "name": "python3"
  },
  "language_info": {
   "codemirror_mode": {
    "name": "ipython",
    "version": 3
   },
   "file_extension": ".py",
   "mimetype": "text/x-python",
   "name": "python",
   "nbconvert_exporter": "python",
   "pygments_lexer": "ipython3",
   "version": "3.11.5"
  }
 },
 "nbformat": 4,
 "nbformat_minor": 2
}
