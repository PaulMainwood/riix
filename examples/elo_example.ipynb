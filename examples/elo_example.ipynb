{
 "cells": [
  {
   "cell_type": "code",
   "execution_count": 1,
   "metadata": {},
   "outputs": [],
   "source": [
    "from riix.models.elo import Elo\n",
    "from riix.utils import MatchupDataset, split_matchup_dataset, generate_matchup_data\n",
    "from riix.metrics import binary_metrics_suite"
   ]
  },
  {
   "cell_type": "code",
   "execution_count": 2,
   "metadata": {},
   "outputs": [
    {
     "name": "stdout",
     "output_type": "stream",
     "text": [
      "loaded dataset with:\n",
      "10000 matchups\n",
      "100 unique competitors\n",
      "10 rating periods of length 1D\n",
      "len(train_dataset)=8000, len(test_dataset)=2000\n"
     ]
    }
   ],
   "source": [
    "df = generate_matchup_data() # replace with your pandas dataframe\n",
    "full_dataset = MatchupDataset(\n",
    "    df=df,\n",
    "    competitor_cols=['competitor_1', 'competitor_2'],\n",
    "    outcome_col='outcome',\n",
    "    datetime_col='date',\n",
    "    rating_period='1D',\n",
    ")\n",
    "train_dataset, test_dataset = split_matchup_dataset(full_dataset, test_fraction=0.2)\n",
    "print(f'{len(train_dataset)=}, {len(test_dataset)=}')"
   ]
  },
  {
   "cell_type": "code",
   "execution_count": 3,
   "metadata": {},
   "outputs": [
    {
     "name": "stdout",
     "output_type": "stream",
     "text": [
      "{'accuracy': 0.72975, 'log_loss': 0.5359083106524117, 'brier_score': 0.1793377446861956}\n"
     ]
    }
   ],
   "source": [
    "model = Elo(competitors=full_dataset.competitors)\n",
    "model.fit_dataset(train_dataset)\n",
    "test_probs = model.fit_dataset(test_dataset, return_pre_match_probs=True)\n",
    "test_metrics = binary_metrics_suite(probs=test_probs, outcomes=test_dataset.outcomes)\n",
    "print(test_metrics)\n"
   ]
  },
  {
   "cell_type": "code",
   "execution_count": 4,
   "metadata": {},
   "outputs": [
    {
     "name": "stdout",
     "output_type": "stream",
     "text": [
      "competitor   \trating\n",
      "competitor_69\t1874.170019\n",
      "competitor_75\t1827.933570\n",
      "competitor_12\t1826.119826\n",
      "competitor_81\t1825.071605\n",
      "competitor_30\t1802.338983\n"
     ]
    }
   ],
   "source": [
    "model.print_leaderboard(num_places=5)"
   ]
  },
  {
   "cell_type": "code",
   "execution_count": null,
   "metadata": {},
   "outputs": [],
   "source": []
  }
 ],
 "metadata": {
  "kernelspec": {
   "display_name": "riix",
   "language": "python",
   "name": "python3"
  },
  "language_info": {
   "codemirror_mode": {
    "name": "ipython",
    "version": 3
   },
   "file_extension": ".py",
   "mimetype": "text/x-python",
   "name": "python",
   "nbconvert_exporter": "python",
   "pygments_lexer": "ipython3",
   "version": "3.11.5"
  }
 },
 "nbformat": 4,
 "nbformat_minor": 2
}
