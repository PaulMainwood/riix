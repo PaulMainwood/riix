{
 "cells": [
  {
   "cell_type": "code",
   "execution_count": 1,
   "metadata": {},
   "outputs": [],
   "source": [
    "from riix.models.elo import Elo\n",
    "from riix.utils import MatchupDataset, generate_matchup_data\n",
    "from riix.metrics import binary_metrics_suite"
   ]
  },
  {
   "cell_type": "code",
   "execution_count": 2,
   "metadata": {},
   "outputs": [
    {
     "name": "stdout",
     "output_type": "stream",
     "text": [
      "loaded dataset with:\n",
      "1000 matchups\n",
      "100 unique competitors\n",
      "10 rating periods of length 1D\n"
     ]
    }
   ],
   "source": [
    "df = generate_matchup_data() # replace with your pandas dataframe\n",
    "dataset = MatchupDataset(\n",
    "    df,\n",
    "    competitor_cols=['competitor_1', 'competitor_2'],\n",
    "    outcome_col='outcome',\n",
    "    datetime_col='date',\n",
    "    rating_period='1D',\n",
    ")"
   ]
  },
  {
   "cell_type": "code",
   "execution_count": 3,
   "metadata": {},
   "outputs": [],
   "source": [
    "model = Elo(num_competitors=dataset.num_competitors)\n",
    "probs = model.rate_dataset(dataset)\n",
    "metrics = binary_metrics_suite(probs=probs, outcomes=dataset.outcomes)\n"
   ]
  },
  {
   "cell_type": "code",
   "execution_count": 4,
   "metadata": {},
   "outputs": [
    {
     "data": {
      "text/plain": [
       "{'accuracy': 0.799,\n",
       " 'log_loss': 0.5363807117304283,\n",
       " 'brier_score': 0.1292005977180302}"
      ]
     },
     "execution_count": 4,
     "metadata": {},
     "output_type": "execute_result"
    }
   ],
   "source": [
    "metrics"
   ]
  },
  {
   "cell_type": "code",
   "execution_count": 5,
   "metadata": {},
   "outputs": [
    {
     "name": "stdout",
     "output_type": "stream",
     "text": [
      "competitor   \trating\n",
      "competitor_74\t1730.661227\n",
      "competitor_48\t1727.693338\n",
      "competitor_47\t1725.183076\n",
      "competitor_89\t1719.935741\n",
      "competitor_62\t1712.183214\n"
     ]
    }
   ],
   "source": [
    "model.print_top_k(k=5, competitor_names=dataset.competitors)"
   ]
  },
  {
   "cell_type": "code",
   "execution_count": null,
   "metadata": {},
   "outputs": [],
   "source": []
  }
 ],
 "metadata": {
  "kernelspec": {
   "display_name": "riix",
   "language": "python",
   "name": "python3"
  },
  "language_info": {
   "codemirror_mode": {
    "name": "ipython",
    "version": 3
   },
   "file_extension": ".py",
   "mimetype": "text/x-python",
   "name": "python",
   "nbconvert_exporter": "python",
   "pygments_lexer": "ipython3",
   "version": "3.11.5"
  }
 },
 "nbformat": 4,
 "nbformat_minor": 2
}
